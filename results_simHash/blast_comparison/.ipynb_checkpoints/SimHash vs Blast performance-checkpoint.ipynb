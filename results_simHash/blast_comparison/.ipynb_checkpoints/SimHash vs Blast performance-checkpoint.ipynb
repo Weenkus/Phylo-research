{
 "cells": [
  {
   "cell_type": "markdown",
   "metadata": {},
   "source": [
    "# SimHash performance evaluation"
   ]
  },
  {
   "cell_type": "markdown",
   "metadata": {},
   "source": [
    "## Software specifications"
   ]
  },
  {
   "cell_type": "markdown",
   "metadata": {},
   "source": [
    "All test were done running the following programs (found below). Operation system Ubuntu 14.04 LTS 64 bit."
   ]
  },
  {
   "cell_type": "markdown",
   "metadata": {},
   "source": [
    "  Software  | Version | Link\n",
    "  ------------- | -------------\n",
    "  Ubuntu 64 bit | 14.04 LTS | http://www.ubuntu.com/\n",
    "  blast+ local | 2.3.0+ | https://blast.ncbi.nlm.nih.gov/Blast.cgi?PAGE_TYPE=BlastDocs&DOC_TYPE=Download\n",
    "  Simhash (C++) | 0.0.1 | None\n",
    "\n",
    "  "
   ]
  },
  {
   "cell_type": "markdown",
   "metadata": {},
   "source": [
    "## Hardware specifications"
   ]
  },
  {
   "cell_type": "markdown",
   "metadata": {},
   "source": [
    "All tests and results were gain on PC with the specifications listed below."
   ]
  },
  {
   "cell_type": "markdown",
   "metadata": {},
   "source": [
    "  Hardware  | Specification\n",
    "  ------------- | -------------\n",
    "  CPU  | Intel(R) Core(TM) i5-4690K CPU @ 3.50 GHz\n",
    "  Graphics card  | EVGA GeForce GTX 760\n",
    "  Memory  | DDR3 8GB 1600 MHz\n",
    "  HDD| Segagate 3 SATA TB/TO, 64MB Cache, 7200 RPM\n",
    "  \n",
    "  \n",
    "  Graphic card details  | Specification\n",
    "  ------------- | -------------\n",
    "  CUDA cores  | 1152\n",
    "  Base Clock  | 980 MHz\n",
    "  Boost Clock  | 1033 MHz\n",
    "  Memory  | 2048 MB GDDR5\n",
    "  Memory Clock  | 6008 MHz\n",
    "  Memory Bandwitch  | 192.2GB/s\n",
    "  \n",
    "  Hardware  | Cost (Amazon.com)\n",
    "  ------------- | -------------\n",
    "  Graphic card  | \\$189.99\n",
    "  CPU  | \\$234.46 "
   ]
  },
  {
   "cell_type": "markdown",
   "metadata": {},
   "source": [
    "## Initialise libraries"
   ]
  },
  {
   "cell_type": "code",
   "execution_count": null,
   "metadata": {
    "collapsed": true
   },
   "outputs": [],
   "source": [
    "import pandas as pa\n",
    "import matplotlib.pyplot as plt\n",
    "import seaborn as sns\n",
    "import math\n",
    "from decimal import Decimal\n",
    "import numpy as np"
   ]
  },
  {
   "cell_type": "markdown",
   "metadata": {},
   "source": [
    "## Load the results"
   ]
  },
  {
   "cell_type": "code",
   "execution_count": null,
   "metadata": {
    "collapsed": false
   },
   "outputs": [],
   "source": [
    "simhash_ENSP233_spooky_3 = pa.read_csv('../blast_comparison/ENSP233/ENSP233_Spooky_3_compare.csv')\n",
    "simhash_ENSP233_native_3 = pa.read_csv('../blast_comparison/ENSP233/ENSP233_Native_3_compare.csv')\n",
    "\n",
    "simhash_ENSP233_boost_2 = pa.read_csv('../blast_comparison/ENSP233/ENSP233_Boost_2_compare.csv')\n",
    "simhash_ENSP233_boost_3 = pa.read_csv('../blast_comparison/ENSP233/ENSP233_Boost_3_compare.csv', dtype={'eValue':'double'})\n",
    "simhash_ENSP233_boost_4 = pa.read_csv('../blast_comparison/ENSP233/ENSP233_Boost_4_compare.csv')\n",
    "simhash_ENSP233_boost_5 = pa.read_csv('../blast_comparison/ENSP233/ENSP233_Boost_5_compare.csv')\n",
    "\n",
    "simhash_ENSP233_boost = pa.concat(\n",
    "    [simhash_ENSP233_boost_2, simhash_ENSP233_boost_3, simhash_ENSP233_boost_4, simhash_ENSP233_boost_5])\n",
    "\n",
    "simhash_ENSP233_window_3 = pa.concat(\n",
    "    [simhash_ENSP233_spooky_3, simhash_ENSP233_native_3, simhash_ENSP233_boost_3])\n",
    "\n",
    "simhash_ENSP1008_boost_3 = pa.read_csv('../blast_comparison/ENSP1008/ENSP1008_Boost_3_compare.csv', dtype={'eValue':'double'})\n",
    "simhash_ENSP1146_boost_3 = pa.read_csv('../blast_comparison/ENSP1146/ENSP1146_Boost_3_compare.csv', dtype={'eValue':'double'})\n",
    "\n",
    "simhash_all_boost_3 = pa.concat([simhash_ENSP233_boost_3, simhash_ENSP1008_boost_3, simhash_ENSP1146_boost_3])"
   ]
  },
  {
   "cell_type": "code",
   "execution_count": null,
   "metadata": {
    "collapsed": false
   },
   "outputs": [],
   "source": [
    "simhash_ENSP1146_boost_3.head()"
   ]
  },
  {
   "cell_type": "markdown",
   "metadata": {},
   "source": [
    "## Data manipulation"
   ]
  },
  {
   "cell_type": "code",
   "execution_count": null,
   "metadata": {
    "collapsed": true
   },
   "outputs": [],
   "source": [
    "logit = lambda x: -math.log10(x) if x != 0 else 0.0"
   ]
  },
  {
   "cell_type": "code",
   "execution_count": null,
   "metadata": {
    "collapsed": false
   },
   "outputs": [],
   "source": [
    "simhash_ENSP233_boost_3['eValueLog'] = simhash_ENSP233_boost_3['eValue'].apply(logit)\n",
    "simhash_ENSP1008_boost_3['eValueLog'] = simhash_ENSP1008_boost_3['eValue'].apply(logit)\n",
    "simhash_ENSP1146_boost_3['eValueLog'] = simhash_ENSP1146_boost_3['eValue'].apply(logit)\n",
    "simhash_all_boost_3['eValueLog'] = simhash_all_boost_3['eValue'].apply(logit)"
   ]
  },
  {
   "cell_type": "markdown",
   "metadata": {},
   "source": [
    "## Date exploration"
   ]
  },
  {
   "cell_type": "code",
   "execution_count": null,
   "metadata": {
    "collapsed": false
   },
   "outputs": [],
   "source": [
    "# Plot all graphs inside the notebook\n",
    "%matplotlib inline\n",
    "\n",
    "simhash_ENSP233_boost_3.head()"
   ]
  },
  {
   "cell_type": "code",
   "execution_count": null,
   "metadata": {
    "collapsed": false
   },
   "outputs": [],
   "source": [
    "simhash_ENSP233_boost_3.tail()"
   ]
  },
  {
   "cell_type": "markdown",
   "metadata": {},
   "source": [
    "## Performance"
   ]
  },
  {
   "cell_type": "code",
   "execution_count": null,
   "metadata": {
    "collapsed": true
   },
   "outputs": [],
   "source": [
    "# Configure crahps\n",
    "sns.set(font_scale=1.2)\n",
    "sns.set(style=\"ticks\")"
   ]
  },
  {
   "cell_type": "code",
   "execution_count": null,
   "metadata": {
    "collapsed": false
   },
   "outputs": [],
   "source": [
    "plt.figure(figsize=(15,8))\n",
    "sns.pointplot(x=\"ham_distance\", y=\"error\", hue=\"hash\", data=simhash_ENSP233_boost_3,size=30, aspect=2)\n",
    "plt.ylabel('Error', fontsize=18)\n",
    "plt.xlabel('Hamming distance between genes', fontsize=18)\n",
    "plt.suptitle(\"SimHash Error vs Blast - Window size 3 for ENSP233\", fontsize = 32)\n",
    "plt.ylim(0.0,100.0)\n",
    "plt.savefig(\"SimHash Error vs Blast - Window size 3 for ENSP233.png\")\n",
    "\n",
    "plt.figure(figsize=(15,8))\n",
    "sns.pointplot(x=\"ham_distance\", y=\"error\", hue=\"hash\", data=simhash_ENSP1008_boost_3,size=30, aspect=2)\n",
    "plt.ylabel('Error', fontsize=18)\n",
    "plt.xlabel('Hamming distance between genes', fontsize=18)\n",
    "plt.suptitle(\"SimHash Error vs Blast - Window size 3 for ENSP1008\", fontsize = 32)\n",
    "plt.ylim(0.0,100.0)\n",
    "plt.savefig(\"SimHash Error vs Blast - Window size 3 for ENSP1008.png\")\n",
    "\n",
    "plt.figure(figsize=(15,8))\n",
    "sns.pointplot(x=\"ham_distance\", y=\"error\", hue=\"hash\", data=simhash_ENSP1146_boost_3,size=30, aspect=2)\n",
    "plt.ylabel('Error', fontsize=18)\n",
    "plt.xlabel('Hamming distance between genes', fontsize=18)\n",
    "plt.suptitle(\"SimHash Error vs Blast - Window size 3 for ENSP1146\", fontsize = 32)\n",
    "plt.ylim(0.0,100.0)\n",
    "plt.savefig(\"SimHash Error vs Blast - Window size 3 for ENSP1146.png\")"
   ]
  },
  {
   "cell_type": "markdown",
   "metadata": {},
   "source": [
    "## SimHash sliding window evalution"
   ]
  },
  {
   "cell_type": "code",
   "execution_count": null,
   "metadata": {
    "collapsed": false
   },
   "outputs": [],
   "source": [
    "plt.figure(figsize=(15,8))\n",
    "sns.pointplot(x=\"ham_distance\", y=\"error\", hue=\"window_size\", data=simhash_ENSP233_boost,size=30, aspect=2)\n",
    "plt.ylabel('Error', fontsize=18)\n",
    "plt.xlabel('Hamming distance between genes', fontsize=18)\n",
    "plt.suptitle(\"SimHash Error vs Blast - Boost hash with different window sizes for ENSP223\", fontsize = 32)\n",
    "#plt.ylim(0.0,100.0)\n",
    "plt.savefig(\"SimHash Error vs Blast - Boost hash with different window sizes for ENSP223\")"
   ]
  },
  {
   "cell_type": "markdown",
   "metadata": {},
   "source": [
    "## SimHash hash function evaluation"
   ]
  },
  {
   "cell_type": "markdown",
   "metadata": {},
   "source": [
    "Hash functions Spooky and Boost give the same results, which can be seen from the graph."
   ]
  },
  {
   "cell_type": "code",
   "execution_count": null,
   "metadata": {
    "collapsed": false
   },
   "outputs": [],
   "source": [
    "plt.figure(figsize=(15,8))\n",
    "sns.pointplot(x=\"ham_distance\", y=\"error\", hue=\"hash\", data=simhash_ENSP233_window_3,size=30, aspect=2)\n",
    "plt.ylabel('Error', fontsize=18)\n",
    "plt.xlabel('Hamming distance between genes', fontsize=18)\n",
    "plt.suptitle(\"SimHash Error vs Blast - Window size 3 with different hash functions for ENSP223\", fontsize = 32)\n",
    "#plt.ylim(0.0,100.0)\n",
    "plt.savefig(\"SimHash Error vs Blast - Window size 3 with different hash functions for ENSP223\")"
   ]
  },
  {
   "cell_type": "markdown",
   "metadata": {
    "collapsed": false
   },
   "source": [
    "## Corelation - Identitiy score, no BOSUM"
   ]
  },
  {
   "cell_type": "code",
   "execution_count": null,
   "metadata": {
    "collapsed": false
   },
   "outputs": [],
   "source": [
    "plt.figure(figsize=(15,8))\n",
    "sns.regplot(x=\"blast_output\", y=\"similarity\",data=simhash_ENSP233_boost_3)\n",
    "plt.ylabel('Identity score - BLAST', fontsize=18)\n",
    "plt.xlabel('Similarity', fontsize=18)\n",
    "plt.suptitle(\"SimHash Error vs Blast corelation - Window size 3, boost for ENSP233(Identity score)\", fontsize = 32)\n",
    "plt.savefig(\"SimHash Error vs Blast corelation - Window size 3, boost for ENSP233(Identity score).png\")\n",
    "\n",
    "plt.figure(figsize=(15,8))\n",
    "sns.regplot(x=\"blast_output\", y=\"similarity\",data=simhash_ENSP1008_boost_3)\n",
    "plt.ylabel('Identity score - BLAST', fontsize=18)\n",
    "plt.xlabel('Similarity', fontsize=18)\n",
    "plt.suptitle(\"SimHash Error vs Blast corelation - Window size 3, boost for ENSP1008(Identity score)\", fontsize = 32)\n",
    "plt.savefig(\"SimHash Error vs Blast corelation - Window size 3, boost for ENSP1008(Identity score).png\")\n",
    "\n",
    "plt.figure(figsize=(15,8))\n",
    "sns.regplot(x=\"blast_output\", y=\"similarity\",data=simhash_ENSP1146_boost_3)\n",
    "plt.ylabel('Identity score - BLAST', fontsize=18)\n",
    "plt.xlabel('Similarity', fontsize=18)\n",
    "plt.suptitle(\"SimHash Error vs Blast corelation - Window size 3, boost for ENSP1146(Identity score)\", fontsize = 32)\n",
    "plt.savefig(\"SimHash Error vs Blast corelation - Window size 3, boost for ENSP1146(Identity score).png\")"
   ]
  },
  {
   "cell_type": "code",
   "execution_count": null,
   "metadata": {
    "collapsed": false
   },
   "outputs": [],
   "source": [
    "plt.figure(figsize=(15,8))\n",
    "sns.regplot(x=\"blast_output\", y=\"similarity\",data=simhash_all_boost_3)\n",
    "plt.ylabel('Identity score - BLAST', fontsize=18)\n",
    "plt.xlabel('Similarity', fontsize=18)\n",
    "plt.suptitle(\"SimHash Error vs Blast corelation - Window size 3, boost for ENSP233, 1008 and 1146(Identity score)\", fontsize = 32)\n",
    "plt.savefig(\"SimHash Error vs Blast corelation - Window size 3, boost for ENSP233, 1008 and 1146(Identity score).png\")"
   ]
  },
  {
   "cell_type": "markdown",
   "metadata": {},
   "source": [
    "## Corelation - Bitscore, no BOSUM"
   ]
  },
  {
   "cell_type": "code",
   "execution_count": null,
   "metadata": {
    "collapsed": false
   },
   "outputs": [],
   "source": [
    "plt.figure(figsize=(15,8))\n",
    "sns.regplot(x=\"bitscore\", y=\"similarity\",data=simhash_ENSP233_boost_3)\n",
    "plt.ylabel('Bitscore - BLAST', fontsize=18)\n",
    "plt.xlabel('Similarity', fontsize=18)\n",
    "plt.suptitle(\"SimHash Error vs Blast corelation - Window size 3, boost for ENSP233(bitscore)\", fontsize = 32)\n",
    "plt.savefig(\"SimHash Error vs Blast corelation - Window size 3, boost for ENSP233(bitscore).png\")\n",
    "\n",
    "plt.figure(figsize=(15,8))\n",
    "sns.regplot(x=\"bitscore\", y=\"similarity\",data=simhash_ENSP1008_boost_3)\n",
    "plt.ylabel('Bitscore - BLAST', fontsize=18)\n",
    "plt.xlabel('Similarity', fontsize=18)\n",
    "plt.suptitle(\"SimHash Error vs Blast corelation - Window size 3, boost for ENSP1008(bitscore)\", fontsize = 32)\n",
    "plt.savefig(\"SimHash Error vs Blast corelation - Window size 3, boost for ENSP1008(bitscore).png\")\n",
    "\n",
    "plt.figure(figsize=(15,8))\n",
    "sns.regplot(x=\"bitscore\", y=\"similarity\",data=simhash_ENSP1146_boost_3)\n",
    "plt.ylabel('Bsitscore - BLAST', fontsize=18)\n",
    "plt.xlabel('Similarity', fontsize=18)\n",
    "plt.suptitle(\"SimHash Error vs Blast corelation - Window size 3, boost for ENSP1146(bitscore)\", fontsize = 32)\n",
    "plt.savefig(\"SimHash Error vs Blast corelation - Window size 3, boost for ENSP1146(bitscore).png\")"
   ]
  },
  {
   "cell_type": "code",
   "execution_count": null,
   "metadata": {
    "collapsed": false
   },
   "outputs": [],
   "source": [
    "plt.figure(figsize=(15,8))\n",
    "sns.regplot(x=\"bitscore\", y=\"similarity\",data=simhash_all_boost_3)\n",
    "plt.ylabel('Bitscore - BLAST', fontsize=18)\n",
    "plt.xlabel('Similarity', fontsize=18)\n",
    "plt.suptitle(\"SimHash Error vs Blast corelation - Window size 3, boost for ENSP233, 1008 and 1146(bitscore)\", fontsize = 32)\n",
    "plt.savefig(\"SimHash Error vs Blast corelation - Window size 3, boost for ENSP233, 1008 and 1146(bitscore).png\")"
   ]
  },
  {
   "cell_type": "markdown",
   "metadata": {},
   "source": [
    "# Corelation - eValue, no BLOSUM"
   ]
  },
  {
   "cell_type": "code",
   "execution_count": null,
   "metadata": {
    "collapsed": false
   },
   "outputs": [],
   "source": [
    "plt.figure(figsize=(15,8))\n",
    "sns.regplot(x=\"eValueLog\", y=\"similarity\",data=simhash_ENSP233_boost_3)\n",
    "plt.ylabel('eValueLog - BLAST', fontsize=18)\n",
    "plt.xlabel('Similarity', fontsize=18)\n",
    "plt.suptitle(\"SimHash Error vs Blast corelation - Window size 3, boost for ENSP233(eValue)\", fontsize = 32)\n",
    "plt.savefig(\"SimHash Error vs Blast corelation - Window size 3, boost for ENSP233(eValue).png\")\n",
    "\n",
    "plt.figure(figsize=(15,8))\n",
    "sns.regplot(x=\"eValueLog\", y=\"similarity\",data=simhash_ENSP1008_boost_3)\n",
    "plt.ylabel('eValueLog - BLAST', fontsize=18)\n",
    "plt.xlabel('Similarity', fontsize=18)\n",
    "plt.suptitle(\"SimHash Error vs Blast corelation - Window size 3, boost for ENSP1008(eValue)\", fontsize = 32)\n",
    "plt.savefig(\"SimHash Error vs Blast corelation - Window size 3, boost for ENSP1008(eValue).png\")\n",
    "\n",
    "plt.figure(figsize=(15,8))\n",
    "sns.regplot(x=\"eValueLog\", y=\"similarity\",data=simhash_ENSP1146_boost_3)\n",
    "plt.ylabel('eValueLog - BLAST', fontsize=18)\n",
    "plt.xlabel('Similarity', fontsize=18)\n",
    "plt.suptitle(\"SimHash Error vs Blast corelation - Window size 3, boost for ENSP1146(eValue)\", fontsize = 32)\n",
    "plt.savefig(\"SimHash Error vs Blast corelation - Window size 3, boost for ENSP1146(eValue).png\")"
   ]
  },
  {
   "cell_type": "code",
   "execution_count": null,
   "metadata": {
    "collapsed": false
   },
   "outputs": [],
   "source": [
    "plt.figure(figsize=(15,8))\n",
    "sns.regplot(x=\"eValueLog\", y=\"similarity\",data=simhash_all_boost_3)\n",
    "plt.ylabel('eValueLog - BLAST', fontsize=18)\n",
    "plt.xlabel('Similarity', fontsize=18)\n",
    "plt.suptitle(\"SimHash Error vs Blast corelation - Window size 3, boost for ENSP233, 1008 and 1146(eValueLog)\", fontsize = 32)\n",
    "plt.savefig(\"SimHash Error vs Blast corelation - Window size 3, boost for ENSP233, 1008 and 1146(eValueLog).png\")"
   ]
  },
  {
   "cell_type": "markdown",
   "metadata": {},
   "source": [
    "# Corelation - eValue, with BLOSUM"
   ]
  },
  {
   "cell_type": "code",
   "execution_count": null,
   "metadata": {
    "collapsed": true
   },
   "outputs": [],
   "source": []
  }
 ],
 "metadata": {
  "kernelspec": {
   "display_name": "Python 3",
   "language": "python",
   "name": "python3"
  },
  "language_info": {
   "codemirror_mode": {
    "name": "ipython",
    "version": 3
   },
   "file_extension": ".py",
   "mimetype": "text/x-python",
   "name": "python",
   "nbconvert_exporter": "python",
   "pygments_lexer": "ipython3",
   "version": "3.5.1"
  }
 },
 "nbformat": 4,
 "nbformat_minor": 0
}
